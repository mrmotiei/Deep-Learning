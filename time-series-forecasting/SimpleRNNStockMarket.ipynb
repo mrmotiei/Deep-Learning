{
 "cells": [
  {
   "cell_type": "markdown",
   "id": "f28d3901",
   "metadata": {},
   "source": [
    "# Simple RNN - Stock Market"
   ]
  },
  {
   "cell_type": "code",
   "execution_count": 1,
   "id": "chicken-infection",
   "metadata": {},
   "outputs": [],
   "source": [
    "import pandas as pd\n",
    "import numpy as np\n",
    "from tensorflow.keras.models import Sequential\n",
    "from tensorflow.keras.layers import Dense, SimpleRNN\n",
    "import matplotlib.pyplot as plt"
   ]
  },
  {
   "cell_type": "code",
   "execution_count": 2,
   "id": "4e24dda3",
   "metadata": {},
   "outputs": [
    {
     "data": {
      "text/html": [
       "<div>\n",
       "<style scoped>\n",
       "    .dataframe tbody tr th:only-of-type {\n",
       "        vertical-align: middle;\n",
       "    }\n",
       "\n",
       "    .dataframe tbody tr th {\n",
       "        vertical-align: top;\n",
       "    }\n",
       "\n",
       "    .dataframe thead th {\n",
       "        text-align: right;\n",
       "    }\n",
       "</style>\n",
       "<table border=\"1\" class=\"dataframe\">\n",
       "  <thead>\n",
       "    <tr style=\"text-align: right;\">\n",
       "      <th></th>\n",
       "      <th>Date</th>\n",
       "      <th>Open</th>\n",
       "      <th>High</th>\n",
       "      <th>Low</th>\n",
       "      <th>Close</th>\n",
       "      <th>Volume</th>\n",
       "      <th>Name</th>\n",
       "    </tr>\n",
       "  </thead>\n",
       "  <tbody>\n",
       "    <tr>\n",
       "      <th>0</th>\n",
       "      <td>2006-01-03</td>\n",
       "      <td>39.69</td>\n",
       "      <td>41.22</td>\n",
       "      <td>38.79</td>\n",
       "      <td>40.91</td>\n",
       "      <td>24232729</td>\n",
       "      <td>AABA</td>\n",
       "    </tr>\n",
       "    <tr>\n",
       "      <th>1</th>\n",
       "      <td>2006-01-04</td>\n",
       "      <td>41.22</td>\n",
       "      <td>41.90</td>\n",
       "      <td>40.77</td>\n",
       "      <td>40.97</td>\n",
       "      <td>20553479</td>\n",
       "      <td>AABA</td>\n",
       "    </tr>\n",
       "    <tr>\n",
       "      <th>2</th>\n",
       "      <td>2006-01-05</td>\n",
       "      <td>40.93</td>\n",
       "      <td>41.73</td>\n",
       "      <td>40.85</td>\n",
       "      <td>41.53</td>\n",
       "      <td>12829610</td>\n",
       "      <td>AABA</td>\n",
       "    </tr>\n",
       "    <tr>\n",
       "      <th>3</th>\n",
       "      <td>2006-01-06</td>\n",
       "      <td>42.88</td>\n",
       "      <td>43.57</td>\n",
       "      <td>42.80</td>\n",
       "      <td>43.21</td>\n",
       "      <td>29422828</td>\n",
       "      <td>AABA</td>\n",
       "    </tr>\n",
       "    <tr>\n",
       "      <th>4</th>\n",
       "      <td>2006-01-09</td>\n",
       "      <td>43.10</td>\n",
       "      <td>43.66</td>\n",
       "      <td>42.82</td>\n",
       "      <td>43.42</td>\n",
       "      <td>16268338</td>\n",
       "      <td>AABA</td>\n",
       "    </tr>\n",
       "  </tbody>\n",
       "</table>\n",
       "</div>"
      ],
      "text/plain": [
       "         Date   Open   High    Low  Close    Volume  Name\n",
       "0  2006-01-03  39.69  41.22  38.79  40.91  24232729  AABA\n",
       "1  2006-01-04  41.22  41.90  40.77  40.97  20553479  AABA\n",
       "2  2006-01-05  40.93  41.73  40.85  41.53  12829610  AABA\n",
       "3  2006-01-06  42.88  43.57  42.80  43.21  29422828  AABA\n",
       "4  2006-01-09  43.10  43.66  42.82  43.42  16268338  AABA"
      ]
     },
     "execution_count": 2,
     "metadata": {},
     "output_type": "execute_result"
    }
   ],
   "source": [
    "data = pd.read_csv('../data/AABA_2006-01-01_to_2018-01-01.csv')\n",
    "data.head()"
   ]
  },
  {
   "cell_type": "code",
   "execution_count": 3,
   "id": "dfc7eb20",
   "metadata": {},
   "outputs": [
    {
     "data": {
      "text/html": [
       "<div>\n",
       "<style scoped>\n",
       "    .dataframe tbody tr th:only-of-type {\n",
       "        vertical-align: middle;\n",
       "    }\n",
       "\n",
       "    .dataframe tbody tr th {\n",
       "        vertical-align: top;\n",
       "    }\n",
       "\n",
       "    .dataframe thead th {\n",
       "        text-align: right;\n",
       "    }\n",
       "</style>\n",
       "<table border=\"1\" class=\"dataframe\">\n",
       "  <thead>\n",
       "    <tr style=\"text-align: right;\">\n",
       "      <th></th>\n",
       "      <th>Open</th>\n",
       "    </tr>\n",
       "  </thead>\n",
       "  <tbody>\n",
       "    <tr>\n",
       "      <th>0</th>\n",
       "      <td>39.69</td>\n",
       "    </tr>\n",
       "    <tr>\n",
       "      <th>1</th>\n",
       "      <td>41.22</td>\n",
       "    </tr>\n",
       "    <tr>\n",
       "      <th>2</th>\n",
       "      <td>40.93</td>\n",
       "    </tr>\n",
       "    <tr>\n",
       "      <th>3</th>\n",
       "      <td>42.88</td>\n",
       "    </tr>\n",
       "    <tr>\n",
       "      <th>4</th>\n",
       "      <td>43.10</td>\n",
       "    </tr>\n",
       "  </tbody>\n",
       "</table>\n",
       "</div>"
      ],
      "text/plain": [
       "    Open\n",
       "0  39.69\n",
       "1  41.22\n",
       "2  40.93\n",
       "3  42.88\n",
       "4  43.10"
      ]
     },
     "execution_count": 3,
     "metadata": {},
     "output_type": "execute_result"
    }
   ],
   "source": [
    "data = data[['Open']]\n",
    "data.head()"
   ]
  },
  {
   "cell_type": "code",
   "execution_count": 4,
   "id": "southern-lightweight",
   "metadata": {},
   "outputs": [
    {
     "data": {
      "text/plain": [
       "[<matplotlib.lines.Line2D at 0x251be2ef9c8>]"
      ]
     },
     "execution_count": 4,
     "metadata": {},
     "output_type": "execute_result"
    },
    {
     "data": {
      "image/png": "[encoded data removed]",
      "text/plain": [
       "<Figure size 432x288 with 1 Axes>"
      ]
     },
     "metadata": {
      "needs_background": "light"
     },
     "output_type": "display_data"
    }
   ],
   "source": [
    "plt.plot(data)"
   ]
  },
  {
   "cell_type": "code",
   "execution_count": 5,
   "id": "46750d51",
   "metadata": {},
   "outputs": [],
   "source": [
    "X = data['Open'].values"
   ]
  },
  {
   "cell_type": "code",
   "execution_count": 6,
   "id": "endangered-trustee",
   "metadata": {},
   "outputs": [
    {
     "data": {
      "text/plain": [
       "array([39.69, 41.22, 40.93, 42.88, 43.1 , 42.96, 42.19, 41.92, 41.  ,\n",
       "       39.09])"
      ]
     },
     "execution_count": 6,
     "metadata": {},
     "output_type": "execute_result"
    }
   ],
   "source": [
    "X[:10]"
   ]
  },
  {
   "cell_type": "code",
   "execution_count": 7,
   "id": "incomplete-bruce",
   "metadata": {},
   "outputs": [],
   "source": [
    "#[\n",
    "#    [0.        , 0.00999983, 0.01999867] -> [0.0299955]\n",
    "#    [0.00999983, 0.01999867, 0.0299955]  -> [0.03998933]\n",
    "#    [0.01999867, 0.0299955 , 0.03998933] -> [0.04997917]\n",
    "#    ...\n",
    "#]"
   ]
  },
  {
   "cell_type": "code",
   "execution_count": 8,
   "id": "closed-invite",
   "metadata": {},
   "outputs": [],
   "source": [
    "X_train, X_test = X[:2500],X[2500:]"
   ]
  },
  {
   "cell_type": "code",
   "execution_count": 9,
   "id": "deluxe-drinking",
   "metadata": {},
   "outputs": [],
   "source": [
    "model = Sequential()\n",
    "model.add(SimpleRNN(units=64,activation='tanh'))\n",
    "model.add(Dense(1))"
   ]
  },
  {
   "cell_type": "code",
   "execution_count": 10,
   "id": "subjective-respect",
   "metadata": {},
   "outputs": [
    {
     "name": "stdout",
     "output_type": "stream",
     "text": [
      "WARNING:tensorflow:From C:\\Users\\motiei\\AppData\\Local\\Continuum\\anaconda3\\envs\\rezadp\\lib\\site-packages\\tensorflow\\python\\ops\\resource_variable_ops.py:435: colocate_with (from tensorflow.python.framework.ops) is deprecated and will be removed in a future version.\n",
      "Instructions for updating:\n",
      "Colocations handled automatically by placer.\n"
     ]
    }
   ],
   "source": [
    "model.compile(loss='mean_absolute_error',optimizer='adam')"
   ]
  },
  {
   "cell_type": "code",
   "execution_count": 11,
   "id": "southwest-posting",
   "metadata": {},
   "outputs": [],
   "source": [
    "seqence = 30"
   ]
  },
  {
   "cell_type": "code",
   "execution_count": 12,
   "id": "seasonal-straight",
   "metadata": {},
   "outputs": [],
   "source": [
    "#XT: X train , yT: y train \n",
    "XT,yT = [],[] \n",
    "for i in range(len(X_train) - seqence ):\n",
    "    d = i + seqence\n",
    "    XT.append(X_train[i:d,])\n",
    "    yT.append(X_train[d])"
   ]
  },
  {
   "cell_type": "code",
   "execution_count": 13,
   "id": "c8563387",
   "metadata": {},
   "outputs": [],
   "source": [
    "#XT: X test , yT: y test \n",
    "Xt,yt = [],[]\n",
    "for i in range(len(X_test) - seqence):\n",
    "    d = i + seqence\n",
    "    Xt.append(X_test[i:d,])\n",
    "    yt.append(X_test[d])"
   ]
  },
  {
   "cell_type": "code",
   "execution_count": 14,
   "id": "a17a2e7c",
   "metadata": {},
   "outputs": [],
   "source": [
    "XT = np.array(XT)\n",
    "yT = np.array(yT)"
   ]
  },
  {
   "cell_type": "code",
   "execution_count": 15,
   "id": "bca99f1b",
   "metadata": {},
   "outputs": [],
   "source": [
    "Xt = np.array(Xt)\n",
    "yt = np.array(yt)"
   ]
  },
  {
   "cell_type": "code",
   "execution_count": 16,
   "id": "491e16b9",
   "metadata": {},
   "outputs": [
    {
     "data": {
      "text/plain": [
       "(2470, 30)"
      ]
     },
     "execution_count": 16,
     "metadata": {},
     "output_type": "execute_result"
    }
   ],
   "source": [
    "XT.shape"
   ]
  },
  {
   "cell_type": "code",
   "execution_count": 17,
   "id": "8c955e4e",
   "metadata": {},
   "outputs": [],
   "source": [
    "XT = np.reshape(XT,(XT.shape[0],XT.shape[1],1))\n",
    "Xt = np.reshape(Xt,(Xt.shape[0],Xt.shape[1],1))"
   ]
  },
  {
   "cell_type": "code",
   "execution_count": 18,
   "id": "494d1ee5",
   "metadata": {},
   "outputs": [
    {
     "name": "stdout",
     "output_type": "stream",
     "text": [
      "WARNING:tensorflow:From C:\\Users\\motiei\\AppData\\Local\\Continuum\\anaconda3\\envs\\rezadp\\lib\\site-packages\\tensorflow\\python\\ops\\math_ops.py:3066: to_int32 (from tensorflow.python.ops.math_ops) is deprecated and will be removed in a future version.\n",
      "Instructions for updating:\n",
      "Use tf.cast instead.\n"
     ]
    }
   ],
   "source": [
    "history = model.fit(XT,yT,epochs=100,batch_size=20,verbose=0)"
   ]
  },
  {
   "cell_type": "code",
   "execution_count": 19,
   "id": "e22fcc88",
   "metadata": {},
   "outputs": [
    {
     "name": "stdout",
     "output_type": "stream",
     "text": [
      "489/489 [==============================] - 0s 376us/sample - loss: 3.8861\n"
     ]
    },
    {
     "data": {
      "text/plain": [
       "3.8860694128555267"
      ]
     },
     "execution_count": 19,
     "metadata": {},
     "output_type": "execute_result"
    }
   ],
   "source": [
    "model.evaluate(Xt, yt)"
   ]
  },
  {
   "cell_type": "code",
   "execution_count": 20,
   "id": "dd16c173",
   "metadata": {},
   "outputs": [],
   "source": [
    "XTPredicted=model.predict(XT)\n",
    "XtPredicted=model.predict(Xt)\n",
    "XFinal=np.concatenate([XTPredicted,XtPredicted], axis=0)"
   ]
  },
  {
   "cell_type": "code",
   "execution_count": 23,
   "id": "40612aa3",
   "metadata": {},
   "outputs": [
    {
     "data": {
      "text/plain": [
       "<matplotlib.legend.Legend at 0x251c0c8fdc8>"
      ]
     },
     "execution_count": 23,
     "metadata": {},
     "output_type": "execute_result"
    },
    {
     "data": {
      "image/png": "[encoded data removed]",
      "text/plain": [
       "<Figure size 576x432 with 1 Axes>"
      ]
     },
     "metadata": {
      "needs_background": "light"
     },
     "output_type": "display_data"
    }
   ],
   "source": [
    "fig, ax = plt.subplots(figsize=(8,6))\n",
    "plt.plot(X,color='red',label='Actual')\n",
    "plt.plot(XFinal,color='blue', label='Predict')\n",
    "plt.legend()"
   ]
  },
  {
   "cell_type": "code",
   "execution_count": null,
   "id": "3d8ebba5",
   "metadata": {},
   "outputs": [],
   "source": []
  }
 ],
 "metadata": {
  "kernelspec": {
   "display_name": "Python 3",
   "language": "python",
   "name": "python3"
  },
  "language_info": {
   "codemirror_mode": {
    "name": "ipython",
    "version": 3
   },
   "file_extension": ".py",
   "mimetype": "text/x-python",
   "name": "python",
   "nbconvert_exporter": "python",
   "pygments_lexer": "ipython3",
   "version": "3.7.10"
  }
 },
 "nbformat": 4,
 "nbformat_minor": 5
}
